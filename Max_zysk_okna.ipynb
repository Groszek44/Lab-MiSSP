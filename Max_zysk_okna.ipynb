{
 "cells": [
  {
   "cell_type": "code",
   "execution_count": 2,
   "metadata": {},
   "outputs": [
    {
     "name": "stdout",
     "output_type": "stream",
     "text": [
      "Status: Optimal\n",
      "Okna_aluminiowe = 2.0\n",
      "Okna_drewniane = 6.0\n",
      "Max_zysk =  36000.0\n"
     ]
    }
   ],
   "source": [
    "from pulp import*\n",
    "prob = LpProblem(\"Max_zysk_z_okien\",LpMaximize)\n",
    "\n",
    "x1 = LpVariable(\"Okna_aluminiowe\",0)\n",
    "x2 = LpVariable(\"Okna_drewniane\",0)\n",
    "\n",
    "#warunek zysku\n",
    "prob += 3000*x1 + 5000*x2, \"Max_zysk\"\n",
    "\n",
    "#warunek fabyrk\n",
    "prob += x1 <= 4.0, \"F_1\"\n",
    "prob += 2.0*x2 <= 12.0, \"F_2\"\n",
    "prob += 3.0*x1 + 2.0*x2 <= 18.0, \"F_3\"\n",
    "\n",
    "prob.writeLP(\"Max_zysk_z_okien\")\n",
    "\n",
    "prob.solve()\n",
    "\n",
    "#wypisywanie\n",
    "print(\"Status:\", LpStatus[prob.status])\n",
    "\n",
    "for v in prob.variables():\n",
    "    print(v.name, \"=\", v.varValue)\n",
    "\n",
    "print(\"Max_zysk = \", value(prob.objective))"
   ]
  },
  {
   "cell_type": "code",
   "execution_count": 1,
   "metadata": {},
   "outputs": [
    {
     "data": {
      "application/vnd.jupyter.widget-view+json": {
       "model_id": "2a11e7a6e635488fae53023abafbbc95",
       "version_major": 2,
       "version_minor": 0
      },
      "text/plain": [
       "interactive(children=(FloatSlider(value=3000.0, description='Cena_okien_drewnianych', max=100000.0, style=Slid…"
      ]
     },
     "metadata": {},
     "output_type": "display_data"
    },
    {
     "data": {
      "text/plain": [
       "<function __main__.Zysk_produkcja(cena_alu=3000, cena_dre=5000, f1_czas_alu=1, f1_czas_dre=0, f1_czas_tydz=4, f2_czas_alu=0, f2_czas_dre=2, f2_czas_tydz=12, f3_czas_alu=3, f3_czas_dre=2, f3_czas_tydz=12)>"
      ]
     },
     "execution_count": 1,
     "metadata": {},
     "output_type": "execute_result"
    }
   ],
   "source": [
    "#Zadanie 2 - wersja z suwakami\n",
    "\n",
    "#inicjalizajca suwaków\n",
    "from __future__ import print_function\n",
    "from ipywidgets import interact, interactive, fixed, interact_manual, Layout, FloatSlider, IntSlider\n",
    "import ipywidgets as widgets\n",
    "import pandas as pd\n",
    "\n",
    "style = {'description_width': 'initial'}\n",
    "\n",
    "#warunki\n",
    "cena_alu_slider = FloatSlider(min = 0, max = 100000, value = 3000, description=\"Cena_okien_drewnianych\", style = style)\n",
    "cena_dre_slider = FloatSlider(min = 0, max = 100000, value = 5000, description=\"Cena_okien_aluminiowych\", style = style)\n",
    "f1_czas_alu_slider = FloatSlider(min = 0, max = 24, value = 1, description=\"Fabryka_1_czas_aluminowych\", style = style)\n",
    "f1_czas_dre_slider = FloatSlider(min = 0, max = 24, value = 0, description=\"Fabryka_1_czas_drenianych\", style = style)\n",
    "f1_czas_tydz_slider = FloatSlider(min = 0, max = 168, value = 4, description=\"Fabryka_1_czas_tydz\", style = style)\n",
    "f2_czas_alu_slider = FloatSlider(min = 0, max = 24, value = 0, description=\"Fabryka_2_czas_aluminowych\", style = style)\n",
    "f2_czas_dre_slider = FloatSlider(min = 0, max = 24, value = 2, description=\"Fabryka_2_czas_drewnianych\", style = style)\n",
    "f2_czas_tydz_slider = FloatSlider(min = 0, max = 168, value = 12, description=\"Fabryka_2_czas_tydz\", style = style)\n",
    "f3_czas_alu_slider = FloatSlider(min = 0, max = 24, value = 3, description=\"Fabryka_2_czas_aluminowych\", style = style)\n",
    "f3_czas_dre_slider = FloatSlider(min = 0, max = 24, value = 2, description=\"Fabryka_2_czas_drewnianych\", style = style)\n",
    "f3_czas_tydz_slider = FloatSlider(min = 0, max = 168, value = 18, description=\"Fabryka_2_czas_tydz\", style = style)\n",
    "\n",
    "def Zysk_produkcja(cena_alu = 3000,\n",
    "    cena_dre = 5000,\n",
    "    f1_czas_alu = 1,\n",
    "    f1_czas_dre = 0,\n",
    "    f1_czas_tydz = 4,\n",
    "    f2_czas_alu = 0,\n",
    "    f2_czas_dre = 2,\n",
    "    f2_czas_tydz = 12,\n",
    "    f3_czas_alu = 3,\n",
    "    f3_czas_dre = 2,\n",
    "    f3_czas_tydz = 12):\n",
    "\n",
    "    prob = LpProblem(\"Maksymalny_zysk_z_okien\",LpMaximize)\n",
    "\n",
    "    alu = LpVariable(\"Okna_alu\",0)\n",
    "    dre = LpVariable(\"Okna_drew\",0)\n",
    "\n",
    "    prob += cena_alu*alu + cena_dre*dre, \"Maksymalny Zysk\"\n",
    "    prob += f1_czas_alu*alu + f1_czas_dre*dre <= f1_czas_tydz, \"F_1\"\n",
    "    prob += f2_czas_alu*alu + f2_czas_dre*dre <= f2_czas_tydz, \"F_2\"\n",
    "    prob += f3_czas_alu*alu + f3_czas_dre*dre <= f3_czas_tydz, \"F_3\"\n",
    "\n",
    "    prob.writeLP(\"Max_zysk_okna\")\n",
    "\n",
    "    prob.solve()\n",
    "\n",
    "    print(\"Status:\", LpStatus[prob.status])\n",
    "\n",
    "    for v in prob.variables():\n",
    "        print(v.name, \"=\", v.varValue)\n",
    "\n",
    "    print(\"Max zysk = \", value(prob.objective))\n",
    "\n",
    "    shadows = [{'name':name, 'shadow price': c.pi, \"slack\": c.slack} for name, c in prob.constraints.items()]\n",
    "    print(\"*\"*10+\"Shadow Prices\"+\"*\"*10)\n",
    "    print(pd.DataFrame(shadows))\n",
    "\n",
    "interact(Zysk_produkcja,\n",
    "    cena_alu = cena_alu_slider,\n",
    "    cena_dre = cena_dre_slider,\n",
    "    f1_czas_alu = f1_czas_alu_slider,\n",
    "    f1_czas_dre = f1_czas_dre_slider,\n",
    "    f1_czas_tydz = f1_czas_tydz_slider,\n",
    "    f2_czas_alu = f2_czas_alu_slider,\n",
    "    f2_czas_dre = f2_czas_dre_slider,\n",
    "    f2_czas_tydz = f2_czas_tydz_slider,\n",
    "    f3_czas_alu = f3_czas_alu_slider,\n",
    "    f3_czas_dre = f3_czas_dre_slider,\n",
    "    f3_czas_tydz = f3_czas_tydz_slider)"
   ]
  },
  {
   "cell_type": "code",
   "execution_count": null,
   "metadata": {},
   "outputs": [],
   "source": []
  }
 ],
 "metadata": {
  "kernelspec": {
   "display_name": "Python 3",
   "language": "python",
   "name": "python3"
  },
  "language_info": {
   "codemirror_mode": {
    "name": "ipython",
    "version": 3
   },
   "file_extension": ".py",
   "mimetype": "text/x-python",
   "name": "python",
   "nbconvert_exporter": "python",
   "pygments_lexer": "ipython3",
   "version": "3.8.3"
  }
 },
 "nbformat": 4,
 "nbformat_minor": 4
}
