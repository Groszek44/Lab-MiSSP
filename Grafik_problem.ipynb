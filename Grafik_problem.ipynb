{
 "cells": [
  {
   "cell_type": "markdown",
   "metadata": {},
   "source": [
    "<h1>Grafik problem</h1>\n",
    "<p></p>\n",
    "<p></p>\n",
    "<p>Opis zadania:</p>\n",
    "<p>Celem zdania było zrealizowanie algorytmu rozwiącującego problem przypisywania pracowaników do każdego dnia , tak aby zminimalizować ich koszty zatrudnienia, znająć ich dyspozycyjnośc w określonych dniach oraz cih wynagrodzenie za godzine pracy. Algorytm pokazuje nam w jakich dniach dany pracowanik powinien przyjść do pracy oraz zwraca tygodniowy koszt utrzymania pracowników w pracy.</p>"
   ]
  },
  {
   "cell_type": "code",
   "execution_count": 1,
   "metadata": {},
   "outputs": [
    {
     "name": "stdout",
     "output_type": "stream",
     "text": [
      "Ania_czw = 0\n",
      "Ania_pon = 0\n",
      "Ania_pt = 1\n",
      "Ania_sr = 0\n",
      "Ania_wt = 0\n",
      "Hektor_pon = 0\n",
      "Hektor_sr = 1\n",
      "Hektor_wt = 1\n",
      "Lidia_czw = 0\n",
      "Lidia_pt = 1\n",
      "Olaf_czw = 1\n",
      "Olaf_pon = 1\n",
      "Olaf_pt = 1\n",
      "Olaf_sr = 0\n",
      "Olaf_wt = 0\n",
      "Piotr_pon = 0\n",
      "Piotr_sr = 0\n",
      "Piotr_wt = 0\n",
      "Stefan_pon = 1\n",
      "Tygodniowy koszt: 4000  zł\n"
     ]
    },
    {
     "name": "stderr",
     "output_type": "stream",
     "text": [
      "C:\\Users\\Kamil\\anaconda3\\lib\\site-packages\\pulp\\pulp.py:1198: UserWarning: Spaces are not permitted in the name. Converted to '_'\n",
      "  warnings.warn(\"Spaces are not permitted in the name. Converted to '_'\")\n"
     ]
    }
   ],
   "source": [
    "from pulp import *\n",
    "prob=LpProblem(\"Grafik problem\",LpMinimize)\n",
    "\n",
    "A_pon=LpVariable(\"Ania_pon\",0,None,LpBinary)\n",
    "A_wt=LpVariable(\"Ania_wt\",0,None,LpBinary)\n",
    "A_sr=LpVariable(\"Ania_sr\",0,None,LpBinary)\n",
    "A_czw=LpVariable(\"Ania_czw\",0,None,LpBinary)\n",
    "A_pt=LpVariable(\"Ania_pt\",0,None,LpBinary)\n",
    "S_pon=LpVariable(\"Stefan_pon\",0,None,LpBinary)\n",
    "H_pon=LpVariable(\"Hektor_pon\",0,None,LpBinary)\n",
    "H_wt=LpVariable(\"Hektor_wt\",0,None,LpBinary)\n",
    "H_sr=LpVariable(\"Hektor_sr\",0,None,LpBinary)\n",
    "O_pon=LpVariable(\"Olaf_pon\",0,None,LpBinary)\n",
    "O_wt=LpVariable(\"Olaf_wt\",0,None,LpBinary)\n",
    "O_sr=LpVariable(\"Olaf_sr\",0,None,LpBinary)\n",
    "O_czw=LpVariable(\"Olaf_czw\",0,None,LpBinary)\n",
    "O_pt=LpVariable(\"Olaf_pt\",0,None,LpBinary)\n",
    "L_czw=LpVariable(\"Lidia_czw\",0,None,LpBinary)\n",
    "L_pt=LpVariable(\"Lidia_pt\",0,None,LpBinary)\n",
    "P_pon=LpVariable(\"Piotr_pon\",0,None,LpBinary)\n",
    "P_wt=LpVariable(\"Piotr_wt\",0,None,LpBinary)\n",
    "P_sr=LpVariable(\"Piotr_sr\",0,None,LpBinary)\n",
    "\n",
    "prob += (100*(A_pon+A_wt+A_sr+A_czw+A_pt)+50*(S_pon)+60*(H_pon+H_wt+H_sr)+40*(O_pon+O_wt+O_sr+O_czw+O_pt)+110*(L_czw+L_pt)+70*(P_pon+P_wt+P_sr))\n",
    "prob += A_pon+A_wt+A_sr+A_czw+A_pt <= 3\n",
    "prob += O_pon+O_wt+O_sr+O_czw+O_pt <= 3\n",
    "prob += A_pon+S_pon+H_pon+O_pon+P_pon == 2\n",
    "prob += A_wt+H_wt+O_wt+P_wt == 1\n",
    "prob += A_sr+H_sr+O_sr+P_sr == 1\n",
    "prob += A_czw+L_czw+O_czw == 1\n",
    "prob += A_pt+L_pt+O_pt == 3\n",
    "\n",
    "prob.solve()\n",
    "for variable in prob.variables():\n",
    "    print (variable.name, \"=\", variable.varValue)\n",
    "\n",
    "tygodniowka = 100*(A_pon.value()+A_wt.value()+A_sr.value()+A_czw.value()+A_pt.value())+50*S_pon.value()+60*(H_pon.value()+H_wt.value()+H_sr.value())+40*(O_pon.value()+O_wt.value()+O_sr.value()+O_czw.value()+O_pt.value())+110*(L_czw.value()+L_pt.value())+70*(P_pon.value()+P_wt.value()+P_sr.value())\n",
    "print(\"Tygodniowy koszt:\",tygodniowka* 8,\" zł\")"
   ]
  }
 ],
 "metadata": {
  "kernelspec": {
   "display_name": "Python 3",
   "language": "python",
   "name": "python3"
  },
  "language_info": {
   "codemirror_mode": {
    "name": "ipython",
    "version": 3
   },
   "file_extension": ".py",
   "mimetype": "text/x-python",
   "name": "python",
   "nbconvert_exporter": "python",
   "pygments_lexer": "ipython3",
   "version": "3.8.3"
  }
 },
 "nbformat": 4,
 "nbformat_minor": 4
}
