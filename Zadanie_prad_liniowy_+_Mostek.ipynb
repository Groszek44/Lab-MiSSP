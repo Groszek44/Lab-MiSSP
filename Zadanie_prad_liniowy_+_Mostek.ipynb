{
 "cells": [
  {
   "cell_type": "code",
   "execution_count": 15,
   "metadata": {},
   "outputs": [
    {
     "name": "stdout",
     "output_type": "stream",
     "text": [
      "Status: Optimal\n",
      "Prad1 = 1.54286\n",
      "Prad2 = 2.05714\n",
      "Prad3 = 3.6\n",
      "Prad4 = 1.6\n",
      "Prad5 = 2.0\n",
      "Max prą =: 3.6 A\n"
     ]
    }
   ],
   "source": [
    "from pulp import*\n",
    "prob = LpProblem(\"Max_prad\",LpMaximize)\n",
    "\n",
    "Prad1 = LpVariable(\"Prad1\",0)\n",
    "Prad2 = LpVariable(\"Prad2\",0)\n",
    "Prad3 = LpVariable(\"Prad3\",0)\n",
    "Prad4 = LpVariable(\"Prad4\",0)\n",
    "Prad5 = LpVariable(\"Prad5\",0)\n",
    "\n",
    "prob += Prad3 , \"MaxPradUkladu\"\n",
    "\n",
    "prob += (Prad1 + Prad2)== Prad3 , \"Prad31\"\n",
    "prob += (Prad4 + Prad5) == Prad3, \"Prad32\"\n",
    "\n",
    "prob += Prad1*8 == Prad2*6, \"Oczko12\"\n",
    "prob += Prad4*10 == Prad5*8, \"Oczko45\"\n",
    "\n",
    "prob += Prad1 <= 2, \"Prad1_max\"\n",
    "prob += Prad2 <= 3, \"Prad2_max\"\n",
    "prob += Prad3 <= 4, \"Prad3_max\"\n",
    "prob += Prad4 <= 2, \"Prad4_max\"\n",
    "prob += Prad5 <= 2, \"Prad5_max\"\n",
    "\n",
    "prob.writeLP(\"Max_prad\")\n",
    "prob.solve()\n",
    "print (\"Status:\", LpStatus[prob.status])\n",
    "\n",
    "for v in prob.variables():\n",
    "    print (v.name, \"=\", v.varValue)\n",
    "\n",
    "print(\"Max prąd =\",value(prob.objective),\"A\")"
   ]
  },
  {
   "cell_type": "code",
   "execution_count": 11,
   "metadata": {},
   "outputs": [
    {
     "name": "stdout",
     "output_type": "stream",
     "text": [
      "Status: Optimal\n",
      "Min_moc =  48.0\n",
      "Prad1 = 3.0 mA\n",
      "Prad2 = 1.0 mA\n",
      "Prad3 = 1.0 mA\n",
      "Prad4 = 1.0 mA\n",
      "Prad5 = 3.0 mA\n",
      "Rezystancje:\n",
      "R1= 2000.0 Ohm\n",
      "R2= 10000.0 Ohm\n",
      "R2= 4000.0 Ohm\n",
      "R4= 7000.0 Ohm\n",
      "R5= 1000.0 Ohm\n"
     ]
    }
   ],
   "source": [
    "from pulp import*\n",
    "prob = LpProblem(\"Moc_min\",LpMinimize)\n",
    "\n",
    "Prad1 = LpVariable(\"Prad1\",0)\n",
    "Prad2 = LpVariable(\"Prad2\",0)\n",
    "Prad3 = LpVariable(\"Prad3\",0)\n",
    "Prad4 = LpVariable(\"Prad4\",0)\n",
    "Prad5 = LpVariable(\"Prad5\",0)\n",
    "\n",
    "prob += 3 <= Prad1, \"P1_min\"\n",
    "prob += Prad1 <= 5, \"P1_max\"\n",
    "\n",
    "prob += 1 <= Prad2, \"P2_min\"\n",
    "prob += Prad2 <= 3, \"P2_max\"\n",
    "\n",
    "prob += 1 <= Prad3, \"P3_min\"\n",
    "prob += Prad3 <= 3, \"P3_max\"\n",
    "\n",
    "prob += 1 <= Prad4, \"P4_min\"\n",
    "prob += Prad4 <= 3, \"P4_max\"\n",
    "\n",
    "prob += 3 <= Prad5, \"P5_min\"\n",
    "prob += Prad5 <= 5, \"P5_max\"\n",
    "\n",
    "prob += 6*Prad1 + 10*Prad2 + 4*Prad3 + 7*Prad4 + 3*Prad5, \"Moc_min\"\n",
    "\n",
    "prob.writeLP(\"Mmin_moc\")\n",
    "\n",
    "prob.solve()\n",
    "\n",
    "print (\"Status:\", LpStatus[prob.status])\n",
    "print(\"Min_moc = \",value(prob.objective))\n",
    "for v in prob.variables():\n",
    "    print (v.name, \"=\", v.varValue,\"mA\")\n",
    "print(\"Rezystancje:\")\n",
    "print(\"R1=\", 6/(Prad1.varValue/1000),\"Ohm\")\n",
    "print(\"R2=\", 10/(Prad2.varValue/1000),\"Ohm\")\n",
    "print(\"R2=\", 4/(Prad3.varValue/1000),\"Ohm\")\n",
    "print(\"R4=\", 7/(Prad4.varValue/1000),\"Ohm\")\n",
    "print(\"R5=\", 3/(Prad5.varValue/1000),\"Ohm\")"
   ]
  },
  {
   "cell_type": "code",
   "execution_count": null,
   "metadata": {},
   "outputs": [],
   "source": []
  }
 ],
 "metadata": {
  "kernelspec": {
   "display_name": "Python 3",
   "language": "python",
   "name": "python3"
  },
  "language_info": {
   "codemirror_mode": {
    "name": "ipython",
    "version": 3
   },
   "file_extension": ".py",
   "mimetype": "text/x-python",
   "name": "python",
   "nbconvert_exporter": "python",
   "pygments_lexer": "ipython3",
   "version": "3.8.3"
  }
 },
 "nbformat": 4,
 "nbformat_minor": 4
}
